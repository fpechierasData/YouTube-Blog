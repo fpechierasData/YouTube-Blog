{
 "cells": [
  {
   "cell_type": "code",
   "execution_count": 11,
   "metadata": {},
   "outputs": [],
   "source": [
    "import polars as pl\n",
    "import pandas as pd\n",
    "import psycopg2\n",
    "from sqlalchemy import create_engine, text"
   ]
  },
  {
   "cell_type": "code",
   "execution_count": 27,
   "metadata": {},
   "outputs": [],
   "source": [
    "df = pd.read_parquet('data/video-transcripts.parquet')\n",
    "df_eval = pd.read_csv('data/eval-raw.csv')"
   ]
  },
  {
   "cell_type": "markdown",
   "metadata": {},
   "source": [
    "Define the database connection parameters"
   ]
  },
  {
   "cell_type": "code",
   "execution_count": 20,
   "metadata": {},
   "outputs": [],
   "source": [
    "# Define the database connection parameters\n",
    "db_params = {\n",
    "\t'host': 'database-yt-search-image-demo-16-3.cjgyiwoo6bgt.eu-west-3.rds.amazonaws.com',\n",
    "\t'database': 'postgres',\n",
    "\t'user': 'postgres',\n",
    "\t'password': '4Bassai,dai4'\n",
    "}"
   ]
  },
  {
   "cell_type": "code",
   "execution_count": 21,
   "metadata": {},
   "outputs": [],
   "source": [
    "conn = psycopg2.connect(\n",
    "\thost=db_params['host'],\n",
    "\tdatabase=db_params['database'],\n",
    "\tuser=db_params['user'],\n",
    "\tpassword=db_params['password']\n",
    ")"
   ]
  },
  {
   "cell_type": "code",
   "execution_count": 22,
   "metadata": {},
   "outputs": [],
   "source": [
    "# Create a cursor object\n",
    "cur = conn.cursor()"
   ]
  },
  {
   "cell_type": "code",
   "execution_count": 23,
   "metadata": {},
   "outputs": [],
   "source": [
    "# Set automatic commit to be true, so that each action is committed without having to call conn.committ() after each command\n",
    "conn.set_session(autocommit=True)"
   ]
  },
  {
   "cell_type": "code",
   "execution_count": 24,
   "metadata": {},
   "outputs": [],
   "source": [
    "engine = create_engine(f'postgresql://{db_params[\"user\"]}:{db_params[\"password\"]}@{db_params[\"host\"]}:5432/{db_params[\"database\"]}')"
   ]
  },
  {
   "cell_type": "code",
   "execution_count": 13,
   "metadata": {},
   "outputs": [],
   "source": [
    "csv_files = {\n",
    "    'eval_csv' : r'F:\\github\\YouTube-Blog\\full-stack-data-science\\data-science\\data\\eval-raw.csv'\n",
    "}"
   ]
  },
  {
   "cell_type": "code",
   "execution_count": 25,
   "metadata": {},
   "outputs": [
    {
     "name": "stdout",
     "output_type": "stream",
     "text": [
      "Contents of 'eval_csv' CSV file:\n",
      "             query     video_id\n",
      "0    ai consulting  INlCLmWlojY\n",
      "1  fine tuning llm  eC6Hd1hFvos\n",
      "\n",
      "\n"
     ]
    }
   ],
   "source": [
    "# Load and display the contents of each CSV file to check\n",
    "for table_name, file_path in csv_files.items():\n",
    "    print(f\"Contents of '{table_name}' CSV file:\")\n",
    "    df = pd.read_csv(file_path)\n",
    "    print(df.head(2))  # Display the first few rows of the DataFrame\n",
    "    print(\"\\n\")"
   ]
  },
  {
   "cell_type": "markdown",
   "metadata": {},
   "source": [
    "Push csv to postgreSQL table"
   ]
  },
  {
   "cell_type": "code",
   "execution_count": 26,
   "metadata": {},
   "outputs": [],
   "source": [
    "# Loop through the CSV files and import them into PostgreSQL\n",
    "for table_name, file_path in csv_files.items():\n",
    "    df = pd.read_csv(file_path)\n",
    "    df.to_sql(table_name, engine, if_exists='replace', index=False)"
   ]
  },
  {
   "cell_type": "markdown",
   "metadata": {},
   "source": [
    "push parquet to postgreSQL table"
   ]
  },
  {
   "cell_type": "code",
   "execution_count": 31,
   "metadata": {},
   "outputs": [
    {
     "data": {
      "text/plain": [
       "83"
      ]
     },
     "execution_count": 31,
     "metadata": {},
     "output_type": "execute_result"
    }
   ],
   "source": [
    "df.to_sql(\"video-transcripts\", engine, if_exists='replace', index=False)"
   ]
  }
 ],
 "metadata": {
  "kernelspec": {
   "display_name": "Python 3",
   "language": "python",
   "name": "python3"
  },
  "language_info": {
   "codemirror_mode": {
    "name": "ipython",
    "version": 3
   },
   "file_extension": ".py",
   "mimetype": "text/x-python",
   "name": "python",
   "nbconvert_exporter": "python",
   "pygments_lexer": "ipython3",
   "version": "3.11.3"
  }
 },
 "nbformat": 4,
 "nbformat_minor": 2
}
