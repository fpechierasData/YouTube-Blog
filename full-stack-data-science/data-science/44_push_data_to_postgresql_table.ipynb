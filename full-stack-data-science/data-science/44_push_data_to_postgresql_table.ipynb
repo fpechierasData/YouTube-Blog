{
 "cells": [
  {
   "cell_type": "code",
   "execution_count": 11,
   "metadata": {},
   "outputs": [],
   "source": [
    "import polars as pl\n",
    "import pandas as pd\n",
    "import psycopg2\n",
    "from sqlalchemy import create_engine, text"
   ]
  },
  {
   "cell_type": "code",
   "execution_count": 27,
   "metadata": {},
   "outputs": [],
   "source": [
    "df = pd.read_parquet('data/video-transcripts.parquet')\n",
    "df_eval = pd.read_csv('data/eval-raw.csv')"
   ]
  },
  {
   "cell_type": "markdown",
   "metadata": {},
   "source": [
    "Define the database connection parameters"
   ]
  },
  {
   "cell_type": "code",
   "execution_count": null,
   "metadata": {},
   "outputs": [],
   "source": [
    "# Define the database connection parameters\n",
    "db_params = {\n",
    "\t'host': 'host',\n",
    "\t'database': 'databse',\n",
    "\t'user': 'user',\n",
    "\t'password': 'password'\n",
    "}"
   ]
  },
  {
   "cell_type": "code",
   "execution_count": 21,
   "metadata": {},
   "outputs": [],
   "source": [
    "conn = psycopg2.connect(\n",
    "\thost=db_params['host'],\n",
    "\tdatabase=db_params['database'],\n",
    "\tuser=db_params['user'],\n",
    "\tpassword=db_params['password']\n",
    ")"
   ]
  },
  {
   "cell_type": "code",
   "execution_count": 22,
   "metadata": {},
   "outputs": [],
   "source": [
    "# Create a cursor object\n",
    "cur = conn.cursor()"
   ]
  },
  {
   "cell_type": "code",
   "execution_count": 23,
   "metadata": {},
   "outputs": [],
   "source": [
    "# Set automatic commit to be true, so that each action is committed without having to call conn.committ() after each command\n",
    "conn.set_session(autocommit=True)"
   ]
  },
  {
   "cell_type": "code",
   "execution_count": 24,
   "metadata": {},
   "outputs": [],
   "source": [
    "engine = create_engine(f'postgresql://{db_params[\"user\"]}:{db_params[\"password\"]}@{db_params[\"host\"]}:5432/{db_params[\"database\"]}')"
   ]
  },
  {
   "cell_type": "code",
   "execution_count": 13,
   "metadata": {},
   "outputs": [],
   "source": [
    "csv_files = {\n",
    "    'eval_csv' : r'F:\\github\\YouTube-Blog\\full-stack-data-science\\data-science\\data\\eval-raw.csv'\n",
    "}"
   ]
  },
  {
   "cell_type": "code",
   "execution_count": 25,
   "metadata": {},
   "outputs": [
    {
     "name": "stdout",
     "output_type": "stream",
     "text": [
      "Contents of 'eval_csv' CSV file:\n",
      "             query     video_id\n",
      "0    ai consulting  INlCLmWlojY\n",
      "1  fine tuning llm  eC6Hd1hFvos\n",
      "\n",
      "\n"
     ]
    }
   ],
   "source": [
    "# Load and display the contents of each CSV file to check\n",
    "for table_name, file_path in csv_files.items():\n",
    "    print(f\"Contents of '{table_name}' CSV file:\")\n",
    "    df = pd.read_csv(file_path)\n",
    "    print(df.head(2))  # Display the first few rows of the DataFrame\n",
    "    print(\"\\n\")"
   ]
  },
  {
   "cell_type": "markdown",
   "metadata": {},
   "source": [
    "Push csv to postgreSQL table"
   ]
  },
  {
   "cell_type": "code",
   "execution_count": 26,
   "metadata": {},
   "outputs": [],
   "source": [
    "# Loop through the CSV files and import them into PostgreSQL\n",
    "for table_name, file_path in csv_files.items():\n",
    "    df = pd.read_csv(file_path)\n",
    "    df.to_sql(table_name, engine, if_exists='replace', index=False)"
   ]
  },
  {
   "cell_type": "markdown",
   "metadata": {},
   "source": [
    "push parquet to postgreSQL table"
   ]
  },
  {
   "cell_type": "code",
   "execution_count": 31,
   "metadata": {},
   "outputs": [
    {
     "data": {
      "text/plain": [
       "83"
      ]
     },
     "execution_count": 31,
     "metadata": {},
     "output_type": "execute_result"
    }
   ],
   "source": [
    "df.to_sql(\"video-transcripts\", engine, if_exists='replace', index=False)"
   ]
  },
  {
   "cell_type": "code",
   "execution_count": 32,
   "metadata": {},
   "outputs": [
    {
     "data": {
      "text/html": [
       "<div>\n",
       "<style scoped>\n",
       "    .dataframe tbody tr th:only-of-type {\n",
       "        vertical-align: middle;\n",
       "    }\n",
       "\n",
       "    .dataframe tbody tr th {\n",
       "        vertical-align: top;\n",
       "    }\n",
       "\n",
       "    .dataframe thead th {\n",
       "        text-align: right;\n",
       "    }\n",
       "</style>\n",
       "<table border=\"1\" class=\"dataframe\">\n",
       "  <thead>\n",
       "    <tr style=\"text-align: right;\">\n",
       "      <th></th>\n",
       "      <th>video_id</th>\n",
       "      <th>datetime</th>\n",
       "      <th>title</th>\n",
       "      <th>transcript</th>\n",
       "    </tr>\n",
       "  </thead>\n",
       "  <tbody>\n",
       "    <tr>\n",
       "      <th>0</th>\n",
       "      <td>03x2oYg9oME</td>\n",
       "      <td>2024-04-25 15:16:00</td>\n",
       "      <td>Data Science Project Management (5-step framew...</td>\n",
       "      <td>this video is part of a larger series on full ...</td>\n",
       "    </tr>\n",
       "    <tr>\n",
       "      <th>1</th>\n",
       "      <td>O5i_mMUM94c</td>\n",
       "      <td>2024-04-19 14:05:54</td>\n",
       "      <td>How I’d learned #datascience (if I had to star...</td>\n",
       "      <td>here's how I'd learn data science if I had to ...</td>\n",
       "    </tr>\n",
       "    <tr>\n",
       "      <th>2</th>\n",
       "      <td>xm9devSQEqU</td>\n",
       "      <td>2024-04-18 15:59:02</td>\n",
       "      <td>4 Skills You Need to Be a Full-Stack Data Scie...</td>\n",
       "      <td>although it is common to delegate different pa...</td>\n",
       "    </tr>\n",
       "    <tr>\n",
       "      <th>3</th>\n",
       "      <td>Z6CmuVEi7QY</td>\n",
       "      <td>2024-04-11 10:00:27</td>\n",
       "      <td>How I'd Learn Data Science (if I started over)</td>\n",
       "      <td>when I was first learning data science it was ...</td>\n",
       "    </tr>\n",
       "    <tr>\n",
       "      <th>4</th>\n",
       "      <td>INlCLmWlojY</td>\n",
       "      <td>2024-04-04 18:45:00</td>\n",
       "      <td>I Was Wrong About AI Consulting (what I learned)</td>\n",
       "      <td>last year I quit my corporate data science job...</td>\n",
       "    </tr>\n",
       "    <tr>\n",
       "      <th>...</th>\n",
       "      <td>...</td>\n",
       "      <td>...</td>\n",
       "      <td>...</td>\n",
       "      <td>...</td>\n",
       "    </tr>\n",
       "    <tr>\n",
       "      <th>78</th>\n",
       "      <td>MX7ymkYGiZ0</td>\n",
       "      <td>2020-12-21 00:24:45</td>\n",
       "      <td>The Wavelet Transform | Introduction &amp; Example...</td>\n",
       "      <td>hey guys welcome back in this video we'll be t...</td>\n",
       "    </tr>\n",
       "    <tr>\n",
       "      <th>79</th>\n",
       "      <td>rPUytg38b6Q</td>\n",
       "      <td>2020-12-04 01:10:36</td>\n",
       "      <td>The Fast Fourier Transform | How does it (actu...</td>\n",
       "      <td>hey guys welcome back in this video we'll be t...</td>\n",
       "    </tr>\n",
       "    <tr>\n",
       "      <th>80</th>\n",
       "      <td>mj86XmfOniY</td>\n",
       "      <td>2020-11-15 20:41:53</td>\n",
       "      <td>Time Series, Signals, &amp; the Fourier Transform ...</td>\n",
       "      <td>yeah hey guys welcome my name is sean i'm a ph...</td>\n",
       "    </tr>\n",
       "    <tr>\n",
       "      <th>81</th>\n",
       "      <td>Gwz4zXPeP_Q</td>\n",
       "      <td>2020-11-12 22:58:00</td>\n",
       "      <td>biometricDahboard3 DEMO</td>\n",
       "      <td>n/a</td>\n",
       "    </tr>\n",
       "    <tr>\n",
       "      <th>82</th>\n",
       "      <td>lciC1s4FO0g</td>\n",
       "      <td>2020-09-23 13:02:57</td>\n",
       "      <td>biometricDashboard2 DEMO</td>\n",
       "      <td>n/a</td>\n",
       "    </tr>\n",
       "  </tbody>\n",
       "</table>\n",
       "<p>83 rows × 4 columns</p>\n",
       "</div>"
      ],
      "text/plain": [
       "       video_id            datetime  \\\n",
       "0   03x2oYg9oME 2024-04-25 15:16:00   \n",
       "1   O5i_mMUM94c 2024-04-19 14:05:54   \n",
       "2   xm9devSQEqU 2024-04-18 15:59:02   \n",
       "3   Z6CmuVEi7QY 2024-04-11 10:00:27   \n",
       "4   INlCLmWlojY 2024-04-04 18:45:00   \n",
       "..          ...                 ...   \n",
       "78  MX7ymkYGiZ0 2020-12-21 00:24:45   \n",
       "79  rPUytg38b6Q 2020-12-04 01:10:36   \n",
       "80  mj86XmfOniY 2020-11-15 20:41:53   \n",
       "81  Gwz4zXPeP_Q 2020-11-12 22:58:00   \n",
       "82  lciC1s4FO0g 2020-09-23 13:02:57   \n",
       "\n",
       "                                                title  \\\n",
       "0   Data Science Project Management (5-step framew...   \n",
       "1   How I’d learned #datascience (if I had to star...   \n",
       "2   4 Skills You Need to Be a Full-Stack Data Scie...   \n",
       "3      How I'd Learn Data Science (if I started over)   \n",
       "4    I Was Wrong About AI Consulting (what I learned)   \n",
       "..                                                ...   \n",
       "78  The Wavelet Transform | Introduction & Example...   \n",
       "79  The Fast Fourier Transform | How does it (actu...   \n",
       "80  Time Series, Signals, & the Fourier Transform ...   \n",
       "81                            biometricDahboard3 DEMO   \n",
       "82                           biometricDashboard2 DEMO   \n",
       "\n",
       "                                           transcript  \n",
       "0   this video is part of a larger series on full ...  \n",
       "1   here's how I'd learn data science if I had to ...  \n",
       "2   although it is common to delegate different pa...  \n",
       "3   when I was first learning data science it was ...  \n",
       "4   last year I quit my corporate data science job...  \n",
       "..                                                ...  \n",
       "78  hey guys welcome back in this video we'll be t...  \n",
       "79  hey guys welcome back in this video we'll be t...  \n",
       "80  yeah hey guys welcome my name is sean i'm a ph...  \n",
       "81                                                n/a  \n",
       "82                                                n/a  \n",
       "\n",
       "[83 rows x 4 columns]"
      ]
     },
     "execution_count": 32,
     "metadata": {},
     "output_type": "execute_result"
    }
   ],
   "source": [
    "pd.read_sql_table(\"video-transcripts\", engine, schema='public')"
   ]
  }
 ],
 "metadata": {
  "kernelspec": {
   "display_name": "Python 3",
   "language": "python",
   "name": "python3"
  },
  "language_info": {
   "codemirror_mode": {
    "name": "ipython",
    "version": 3
   },
   "file_extension": ".py",
   "mimetype": "text/x-python",
   "name": "python",
   "nbconvert_exporter": "python",
   "pygments_lexer": "ipython3",
   "version": "3.11.3"
  }
 },
 "nbformat": 4,
 "nbformat_minor": 2
}
