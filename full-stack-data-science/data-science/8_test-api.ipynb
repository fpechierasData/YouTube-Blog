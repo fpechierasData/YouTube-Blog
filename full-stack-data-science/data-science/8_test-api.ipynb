{
 "cells": [
  {
   "cell_type": "markdown",
   "metadata": {},
   "source": [
    "# Test API"
   ]
  },
  {
   "cell_type": "markdown",
   "metadata": {},
   "source": [
    "## imports"
   ]
  },
  {
   "cell_type": "code",
   "execution_count": 2,
   "metadata": {},
   "outputs": [],
   "source": [
    "import requests\n",
    "import json"
   ]
  },
  {
   "cell_type": "markdown",
   "metadata": {},
   "source": [
    "## Local API"
   ]
  },
  {
   "cell_type": "code",
   "execution_count": 3,
   "metadata": {},
   "outputs": [],
   "source": [
    "url = 'http://127.0.0.1:8000/search'\n",
    "query = \"text embeddings simply explained\""
   ]
  },
  {
   "cell_type": "code",
   "execution_count": 4,
   "metadata": {},
   "outputs": [
    {
     "name": "stdout",
     "output_type": "stream",
     "text": [
      "CPU times: total: 15.6 ms\n",
      "Wall time: 1.1 s\n"
     ]
    }
   ],
   "source": [
    "# response = requests.get(url + query)\n",
    "params = {\"query\": query}\n",
    "%time response = requests.get(url, params=params)"
   ]
  },
  {
   "cell_type": "code",
   "execution_count": 6,
   "metadata": {},
   "outputs": [
    {
     "data": {
      "text/plain": [
       "'{\"title\":[\"Text Embeddings, Classification, and Semantic Search (w/ Python Code)\",\"A Practical Introduction to Large Language Models (LLMs)\",\"LLMs EXPLAINED in 60 seconds #ai\",\"The Hugging Face Transformers Library | Example Code + Chatbot UI with Gradio\",\"How to Improve LLMs with RAG (Overview + Python Code)\"],\"video_id\":[\"sNa_uiqSlJo\",\"tFHeUSJAYbE\",\"ytmK_ErTWss\",\"jan07gloaRg\",\"Ylz779Op9Pw\"]}'"
      ]
     },
     "execution_count": 6,
     "metadata": {},
     "output_type": "execute_result"
    }
   ],
   "source": [
    "response.text"
   ]
  },
  {
   "cell_type": "code",
   "execution_count": 5,
   "metadata": {},
   "outputs": [
    {
     "data": {
      "text/plain": [
       "['Text Embeddings, Classification, and Semantic Search (w/ Python Code)',\n",
       " 'A Practical Introduction to Large Language Models (LLMs)',\n",
       " 'LLMs EXPLAINED in 60 seconds #ai',\n",
       " 'The Hugging Face Transformers Library | Example Code + Chatbot UI with Gradio',\n",
       " 'How to Improve LLMs with RAG (Overview + Python Code)']"
      ]
     },
     "execution_count": 5,
     "metadata": {},
     "output_type": "execute_result"
    }
   ],
   "source": [
    "json.loads(response.text)['title']"
   ]
  },
  {
   "cell_type": "markdown",
   "metadata": {},
   "source": [
    "## (Local) Docker API"
   ]
  },
  {
   "cell_type": "code",
   "execution_count": 9,
   "metadata": {},
   "outputs": [],
   "source": [
    "url = 'http://localhost:80/search'\n",
    "query = \"text embeddings simply explained\""
   ]
  },
  {
   "cell_type": "code",
   "execution_count": 10,
   "metadata": {},
   "outputs": [
    {
     "name": "stdout",
     "output_type": "stream",
     "text": [
      "CPU times: total: 31.2 ms\n",
      "Wall time: 276 ms\n"
     ]
    }
   ],
   "source": [
    "# response = requests.get(url + query)\n",
    "params = {\"query\": query}\n",
    "%time response = requests.get(url, params=params)"
   ]
  },
  {
   "cell_type": "code",
   "execution_count": 11,
   "metadata": {},
   "outputs": [
    {
     "data": {
      "text/plain": [
       "['Text Embeddings, Classification, and Semantic Search (w/ Python Code)',\n",
       " 'A Practical Introduction to Large Language Models (LLMs)',\n",
       " 'LLMs EXPLAINED in 60 seconds #ai',\n",
       " 'The Hugging Face Transformers Library | Example Code + Chatbot UI with Gradio',\n",
       " 'How to Improve LLMs with RAG (Overview + Python Code)']"
      ]
     },
     "execution_count": 11,
     "metadata": {},
     "output_type": "execute_result"
    }
   ],
   "source": [
    "json.loads(response.text)['title']"
   ]
  },
  {
   "cell_type": "code",
   "execution_count": 12,
   "metadata": {},
   "outputs": [
    {
     "data": {
      "text/plain": [
       "'{\"name\":\"yt-search\",\"description\":\"Search API for Shaw Talebi\\'s YouTube videos.\"}'"
      ]
     },
     "execution_count": 12,
     "metadata": {},
     "output_type": "execute_result"
    }
   ],
   "source": [
    "requests.get('http://localhost:80/info').text"
   ]
  },
  {
   "cell_type": "markdown",
   "metadata": {},
   "source": [
    "## (AWS) Docker API"
   ]
  },
  {
   "cell_type": "code",
   "execution_count": 13,
   "metadata": {},
   "outputs": [],
   "source": [
    "url = 'http://35.180.227.4:80/search'\n",
    "query = \"text embeddings simply explained\""
   ]
  },
  {
   "cell_type": "code",
   "execution_count": 16,
   "metadata": {},
   "outputs": [
    {
     "name": "stdout",
     "output_type": "stream",
     "text": [
      "CPU times: total: 0 ns\n",
      "Wall time: 317 ms\n"
     ]
    }
   ],
   "source": [
    "# response = requests.get(url + query)\n",
    "params = {\"query\": query}\n",
    "%time response = requests.get(url, params=params)"
   ]
  }
 ],
 "metadata": {
  "kernelspec": {
   "display_name": "Python 3",
   "language": "python",
   "name": "python3"
  },
  "language_info": {
   "codemirror_mode": {
    "name": "ipython",
    "version": 3
   },
   "file_extension": ".py",
   "mimetype": "text/x-python",
   "name": "python",
   "nbconvert_exporter": "python",
   "pygments_lexer": "ipython3",
   "version": "3.11.3"
  }
 },
 "nbformat": 4,
 "nbformat_minor": 2
}
