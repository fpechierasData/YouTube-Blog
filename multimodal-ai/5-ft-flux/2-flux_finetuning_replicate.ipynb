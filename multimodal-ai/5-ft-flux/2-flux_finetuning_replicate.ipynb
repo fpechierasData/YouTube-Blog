{
 "cells": [
  {
   "cell_type": "markdown",
   "id": "43d4369c-1f77-4798-b7c7-aa67590aca3d",
   "metadata": {},
   "source": [
    "# Fine-tuning FLUX.1 on Photos of Me\n",
    "\n",
    "Code authored by: Shaw Talebi <br>\n",
    "[Video link](https://youtu.be/bZr2vhoXSy8) | [Blog link](https://medium.com/@shawhin/i-trained-flux-1-on-my-face-and-how-you-can-too-bbf0cb3824b0) <br>\n",
    "Based on guide from [here](https://replicate.com/blog/fine-tune-flux)"
   ]
  },
  {
   "cell_type": "markdown",
   "id": "621d70bd-dea1-4bce-8f5a-df1e15af1267",
   "metadata": {},
   "source": [
    "### imports"
   ]
  },
  {
   "cell_type": "code",
   "execution_count": null,
   "id": "4a2e3f9d-90a3-485a-bb57-57109df06c4f",
   "metadata": {},
   "outputs": [],
   "source": [
    "import os\n",
    "import replicate\n",
    "from dotenv import load_dotenv"
   ]
  },
  {
   "cell_type": "code",
   "execution_count": null,
   "id": "23e1c5db-4fa1-4496-9b27-9b1593bfb2f2",
   "metadata": {},
   "outputs": [],
   "source": [
    "# load vars from .env\n",
    "load_dotenv()\n",
    "\n",
    "# set replicate api key\n",
    "replicate = replicate.Client(api_token=os.getenv(\"REPLICATE_API_KEY\"))"
   ]
  },
  {
   "cell_type": "markdown",
   "id": "369cbeaf-8315-476d-8aa9-ec7077845aa6",
   "metadata": {},
   "source": [
    "### create model"
   ]
  },
  {
   "cell_type": "code",
   "execution_count": null,
   "id": "bdda56fc-5bc6-4f79-b300-cc4063752ae2",
   "metadata": {},
   "outputs": [],
   "source": [
    "model = replicate.models.create(\n",
    "    owner=\"shawhint\",\n",
    "    name=\"flux-karmax-ft\",\n",
    "    visibility=\"private\",  # or \"private\" if you prefer\n",
    "    hardware=\"gpu-t4\",  # Replicate will override this for fine-tuned models\n",
    "    description=\"FLUX.1 finetuned on photos of me (Shaw)\"\n",
    ")\n",
    " \n",
    "print(f\"Model created: {model.name}\")\n",
    "print(f\"Model URL: https://replicate.com/{model.owner}/{model.name}\")"
   ]
  },
  {
   "cell_type": "markdown",
   "id": "0e827867-8322-497a-a356-6dc81f32ab16",
   "metadata": {},
   "source": [
    "### fine-tune model using flux-dev-lora-trainer"
   ]
  },
  {
   "cell_type": "code",
   "execution_count": null,
   "id": "abef780e-09c4-443c-80e1-79aa98ff450e",
   "metadata": {},
   "outputs": [],
   "source": [
    "# Now use this model as the destination for your training\n",
    "training = replicate.trainings.create(\n",
    "    version=\"ostris/flux-dev-lora-trainer:4ffd32160efd92e956d39c5338a9b8fbafca58e03f791f6d8011f3e20e8ea6fa\",\n",
    "    input={\n",
    "        \"input_images\": open(\"data.zip\", \"rb\"),\n",
    "        \"steps\": 1000,\n",
    "        # \"hf_token\": \"YOUR_HUGGING_FACE_TOKEN\",  # optional\n",
    "        # \"hf_repo_id\": \"YOUR_HUGGING_FACE_REPO_ID\",  # optional\n",
    "    },\n",
    "    destination=f\"{model.owner}/{model.name}\"\n",
    ")\n",
    " \n",
    "print(f\"Training started: {training.status}\")\n",
    "print(f\"Training URL: https://replicate.com/p/{training.id}\")"
   ]
  },
  {
   "cell_type": "code",
   "execution_count": null,
   "id": "3022647a",
   "metadata": {},
   "outputs": [],
   "source": [
    "from sklearn import linear_model\n",
    "\n",
    "lm = linear_model.LinearRegression()\n",
    "lm.fit([[1], [2], [3]], [2, 4, 6])"
   ]
  },
  {
   "cell_type": "code",
   "execution_count": null,
   "id": "8a4c4f37",
   "metadata": {},
   "outputs": [],
   "source": [
    "def predict_double(half: float) -> float:\n",
    "    return lm.predict([[half]])[0]\n",
    "\n",
    "# test that it works by doubling the number 5\n",
    "print(predict_double(5))"
   ]
  },
  {
   "cell_type": "code",
   "execution_count": null,
   "id": "11157fe7",
   "metadata": {},
   "outputs": [],
   "source": [
    "import modelbit\n",
    "mb = modelbit.login()"
   ]
  },
  {
   "cell_type": "code",
   "execution_count": null,
   "id": "768ecd1e",
   "metadata": {},
   "outputs": [],
   "source": [
    "mb.deploy(predict_double)"
   ]
  },
  {
   "cell_type": "code",
   "execution_count": null,
   "id": "cc69c545",
   "metadata": {},
   "outputs": [],
   "source": [
    "modelbit.get_inference(\n",
    "  deployment=\"predict_double\",\n",
    "  workspace=\"karmax\",\n",
    "  region=\"us-east-1.aws\",\n",
    "  data=5)"
   ]
  },
  {
   "cell_type": "code",
   "execution_count": null,
   "id": "16dabbd0",
   "metadata": {},
   "outputs": [],
   "source": [
    "modelbit.deploy()"
   ]
  }
 ],
 "metadata": {
  "kernelspec": {
   "display_name": "Python 3",
   "language": "python",
   "name": "python3"
  },
  "language_info": {
   "codemirror_mode": {
    "name": "ipython",
    "version": 3
   },
   "file_extension": ".py",
   "mimetype": "text/x-python",
   "name": "python",
   "nbconvert_exporter": "python",
   "pygments_lexer": "ipython3",
   "version": "3.11.3"
  }
 },
 "nbformat": 4,
 "nbformat_minor": 5
}
